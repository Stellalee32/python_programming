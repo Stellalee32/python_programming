{
  "nbformat": 4,
  "nbformat_minor": 0,
  "metadata": {
    "colab": {
      "provenance": [],
      "authorship_tag": "ABX9TyNGSZ0XgeMbmnkVWBZ0TwcB",
      "include_colab_link": true
    },
    "kernelspec": {
      "name": "python3",
      "display_name": "Python 3"
    },
    "language_info": {
      "name": "python"
    }
  },
  "cells": [
    {
      "cell_type": "markdown",
      "metadata": {
        "id": "view-in-github",
        "colab_type": "text"
      },
      "source": [
        "<a href=\"https://colab.research.google.com/github/Stellalee32/python_programming/blob/main/Week13_Exercise(1).ipynb\" target=\"_parent\"><img src=\"https://colab.research.google.com/assets/colab-badge.svg\" alt=\"Open In Colab\"/></a>"
      ]
    },
    {
      "cell_type": "code",
      "execution_count": null,
      "metadata": {
        "colab": {
          "base_uri": "https://localhost:8080/"
        },
        "id": "-vGNDW8f8gXE",
        "outputId": "dd01b44f-aa39-4e0a-ee4c-fd5368036409"
      },
      "outputs": [
        {
          "output_type": "stream",
          "name": "stdout",
          "text": [
            "menu\n"
          ]
        }
      ],
      "source": [
        "#2023272280 이승아\n",
        "\n",
        "import xml.etree.ElementTree as et\n",
        "tree = et.ElementTree(file='menu.xml')\n",
        "root = tree.getroot()\n",
        "\n",
        "print(root.tag)"
      ]
    },
    {
      "cell_type": "code",
      "source": [
        "for child in root:\n",
        "  print('tag:', child.tag, 'attributes:', child.attrib)\n",
        "  for grandchild in child:\n",
        "    print('\\ttag:', grandchild.tag, 'attributes:', grandchild.attrib)"
      ],
      "metadata": {
        "colab": {
          "base_uri": "https://localhost:8080/"
        },
        "id": "-s0OpqjH9YLF",
        "outputId": "d9650933-042b-4ff6-c8de-9a0b7062f74f"
      },
      "execution_count": null,
      "outputs": [
        {
          "output_type": "stream",
          "name": "stdout",
          "text": [
            "tag: breakfast attributes: {'hours': '7-11'}\n",
            "\ttag: item attributes: {'price': '$6.00'}\n",
            "\ttag: item attributes: {'price': '$4.00'}\n",
            "tag: lunch attributes: {'hours': '11-3'}\n",
            "\ttag: item attributes: {'price': '$5.00'}\n",
            "tag: dinner attributes: {'hours': '3-10'}\n",
            "\ttag: item attributes: {'price': '8.00'}\n"
          ]
        }
      ]
    },
    {
      "cell_type": "code",
      "source": [
        "print(root[0])\n",
        "print(root[0].get(\"hours\"))\n",
        "print(root[0].keys())\n",
        "print(root[0].items())"
      ],
      "metadata": {
        "colab": {
          "base_uri": "https://localhost:8080/"
        },
        "id": "oWiUD9Qs9nR1",
        "outputId": "ebd81391-dfa0-4af9-f89d-c1c7752a7601"
      },
      "execution_count": null,
      "outputs": [
        {
          "output_type": "stream",
          "name": "stdout",
          "text": [
            "<Element 'breakfast' at 0x7d9850b11350>\n",
            "7-11\n",
            "['hours']\n",
            "[('hours', '7-11')]\n"
          ]
        }
      ]
    },
    {
      "cell_type": "code",
      "source": [
        "lunch = root.find(\"lunch\")\n",
        "print(lunch)\n",
        "print(lunch.get(\"hours\"))\n",
        "print(lunch.keys())\n",
        "print(lunch.items())"
      ],
      "metadata": {
        "colab": {
          "base_uri": "https://localhost:8080/"
        },
        "id": "EgJyZYpk9xyt",
        "outputId": "97bdc301-20ed-4186-8a2a-4d9a99f17835"
      },
      "execution_count": null,
      "outputs": [
        {
          "output_type": "stream",
          "name": "stdout",
          "text": [
            "<Element 'lunch' at 0x7d9850b11620>\n",
            "11-3\n",
            "['hours']\n",
            "[('hours', '11-3')]\n"
          ]
        }
      ]
    },
    {
      "cell_type": "code",
      "source": [
        "print(root[0].findall('item'))"
      ],
      "metadata": {
        "colab": {
          "base_uri": "https://localhost:8080/"
        },
        "id": "fd5ZuTc_9644",
        "outputId": "d761c4c6-bcdc-4d72-dbda-c6744b466170"
      },
      "execution_count": null,
      "outputs": [
        {
          "output_type": "stream",
          "name": "stdout",
          "text": [
            "[<Element 'item' at 0x7d9850b114e0>, <Element 'item' at 0x7d9850b115d0>]\n"
          ]
        }
      ]
    },
    {
      "cell_type": "code",
      "source": [
        "print(root[0].findall('item'))\n",
        "for item in root[0].findall('item'):\n",
        "  print(item.get('price'))\n",
        "  print(item.text)"
      ],
      "metadata": {
        "colab": {
          "base_uri": "https://localhost:8080/"
        },
        "id": "OqeO1PBF-jRr",
        "outputId": "f15ac55c-53c7-4772-a32a-e9d45d01fe45"
      },
      "execution_count": null,
      "outputs": [
        {
          "output_type": "stream",
          "name": "stdout",
          "text": [
            "[<Element 'item' at 0x7d9850b114e0>, <Element 'item' at 0x7d9850b115d0>]\n",
            "$6.00\n",
            "breakfast burritos\n",
            "$4.00\n",
            "pancakes\n"
          ]
        }
      ]
    },
    {
      "cell_type": "code",
      "source": [
        "{\n",
        "    \"이름\":\"홍길동\",\n",
        "    \"나이\": 25,\n",
        "    \"성별\": \"여\",\n",
        "    \"주소\": \"서울특별시 양천구 목동\",\n",
        "    \"특기\": [\"농구\", \"도술\"],\n",
        "    \"가족관계\": {\"#\":2, \"아버지\": \"홍판서\", \"어머니\": \"춘섬\"},\n",
        "    \"회사\": \"경기 수원시 팔달구 우만동\"\n",
        "}"
      ],
      "metadata": {
        "colab": {
          "base_uri": "https://localhost:8080/"
        },
        "id": "4m6iX1xP-vhz",
        "outputId": "354b303d-f663-40ae-c2a7-08fe2102babe"
      },
      "execution_count": null,
      "outputs": [
        {
          "output_type": "execute_result",
          "data": {
            "text/plain": [
              "{'이름': '홍길동',\n",
              " '나이': 25,\n",
              " '성별': '여',\n",
              " '주소': '서울특별시 양천구 목동',\n",
              " '특기': ['농구', '도술'],\n",
              " '가족관계': {'#': 2, '아버지': '홍판서', '어머니': '춘섬'},\n",
              " '회사': '경기 수원시 팔달구 우만동'}"
            ]
          },
          "metadata": {},
          "execution_count": 10
        }
      ]
    },
    {
      "cell_type": "code",
      "source": [
        "{\n",
        "    \"_index\" : \"bank\",\n",
        "    \"_type\" : \"account\",\n",
        "    \"_id\" : \"1\",\n",
        "    \"_version\" : 1,\n",
        "    \"found\" : True,\n",
        "    \"_source\" : {\n",
        "        \"account_number\" : 1,\n",
        "        \"balance\" : 39225,\n",
        "        \"firstname\" : \"Amber\",\n",
        "        \"lastname\" : \"Duke\",\n",
        "        \"age\" : 32,\n",
        "        \"gender\" : \"M\",\n",
        "        \"address\" : \"880 Holmes Lane\",\n",
        "        \"employer\" : \"Pyrami\",\n",
        "        \"email\" : \"amberduke@pyrami.com\",\n",
        "        \"city\" : \"Brogan\",\n",
        "        \"state\" : \"IL\"\n",
        "    }\n",
        "}"
      ],
      "metadata": {
        "colab": {
          "base_uri": "https://localhost:8080/"
        },
        "id": "uFdGZeG3_MsB",
        "outputId": "6b4c0cc9-a252-4a12-c6c1-41b8ea231905"
      },
      "execution_count": null,
      "outputs": [
        {
          "output_type": "execute_result",
          "data": {
            "text/plain": [
              "{'_index': 'bank',\n",
              " '_type': 'account',\n",
              " '_id': '1',\n",
              " '_version': 1,\n",
              " 'found': True,\n",
              " '_source': {'account_number': 1,\n",
              "  'balance': 39225,\n",
              "  'firstname': 'Amber',\n",
              "  'lastname': 'Duke',\n",
              "  'age': 32,\n",
              "  'gender': 'M',\n",
              "  'address': '880 Holmes Lane',\n",
              "  'employer': 'Pyrami',\n",
              "  'email': 'amberduke@pyrami.com',\n",
              "  'city': 'Brogan',\n",
              "  'state': 'IL'}}"
            ]
          },
          "metadata": {},
          "execution_count": 13
        }
      ]
    },
    {
      "cell_type": "code",
      "source": [
        "import json\n",
        "j1 = {\"name\":\"홍길동\", \"birth\":\"0525\", \"age\":30}\n",
        "j1"
      ],
      "metadata": {
        "colab": {
          "base_uri": "https://localhost:8080/"
        },
        "id": "vuIYXiHJAKsr",
        "outputId": "a9da7fb0-d5d3-402f-8fbb-306f532e97f8"
      },
      "execution_count": null,
      "outputs": [
        {
          "output_type": "execute_result",
          "data": {
            "text/plain": [
              "{'name': '홍길동', 'birth': '0525', 'age': 30}"
            ]
          },
          "metadata": {},
          "execution_count": 14
        }
      ]
    },
    {
      "cell_type": "code",
      "source": [
        "json.dumps(j1)"
      ],
      "metadata": {
        "colab": {
          "base_uri": "https://localhost:8080/",
          "height": 36
        },
        "id": "iMWUIpn9AUAG",
        "outputId": "faab6526-476b-4a94-fa03-e26ee51e2196"
      },
      "execution_count": null,
      "outputs": [
        {
          "output_type": "execute_result",
          "data": {
            "text/plain": [
              "'{\"name\": \"\\\\ud64d\\\\uae38\\\\ub3d9\", \"birth\": \"0525\", \"age\": 30}'"
            ],
            "application/vnd.google.colaboratory.intrinsic+json": {
              "type": "string"
            }
          },
          "metadata": {},
          "execution_count": 16
        }
      ]
    },
    {
      "cell_type": "code",
      "source": [
        "print(json.dumps(j1, indent=2))"
      ],
      "metadata": {
        "colab": {
          "base_uri": "https://localhost:8080/"
        },
        "id": "6_1Sxs-WAak4",
        "outputId": "dcfbc44e-54ea-4d2d-b776-eeeb3b361f43"
      },
      "execution_count": null,
      "outputs": [
        {
          "output_type": "stream",
          "name": "stdout",
          "text": [
            "{\n",
            "  \"name\": \"\\ud64d\\uae38\\ub3d9\",\n",
            "  \"birth\": \"0525\",\n",
            "  \"age\": 30\n",
            "}\n"
          ]
        }
      ]
    },
    {
      "cell_type": "code",
      "source": [
        "json.dumps([1,2,3])"
      ],
      "metadata": {
        "colab": {
          "base_uri": "https://localhost:8080/",
          "height": 36
        },
        "id": "xowDxc67Ae26",
        "outputId": "d06b74cd-5145-437a-a623-57e60fb947a4"
      },
      "execution_count": null,
      "outputs": [
        {
          "output_type": "execute_result",
          "data": {
            "text/plain": [
              "'[1, 2, 3]'"
            ],
            "application/vnd.google.colaboratory.intrinsic+json": {
              "type": "string"
            }
          },
          "metadata": {},
          "execution_count": 18
        }
      ]
    },
    {
      "cell_type": "code",
      "source": [
        "json.dumps((4,5,6))"
      ],
      "metadata": {
        "colab": {
          "base_uri": "https://localhost:8080/",
          "height": 36
        },
        "id": "dS95DcKfAj1E",
        "outputId": "463e8012-87b0-496d-fa98-ff8b18afb918"
      },
      "execution_count": null,
      "outputs": [
        {
          "output_type": "execute_result",
          "data": {
            "text/plain": [
              "'[4, 5, 6]'"
            ],
            "application/vnd.google.colaboratory.intrinsic+json": {
              "type": "string"
            }
          },
          "metadata": {},
          "execution_count": 19
        }
      ]
    },
    {
      "cell_type": "code",
      "source": [
        "j1 = {\"name\":\"홍길동\", \"birth\":\"0525\", \"age\":30}\n",
        "d1 = json.dumps(j1)\n",
        "json.loads(d1)"
      ],
      "metadata": {
        "colab": {
          "base_uri": "https://localhost:8080/"
        },
        "id": "OAJ7p9ufAmX0",
        "outputId": "06e84f3e-5b0f-438e-9260-f96ad4b4aa7f"
      },
      "execution_count": null,
      "outputs": [
        {
          "output_type": "execute_result",
          "data": {
            "text/plain": [
              "{'name': '홍길동', 'birth': '0525', 'age': 30}"
            ]
          },
          "metadata": {},
          "execution_count": 20
        }
      ]
    },
    {
      "cell_type": "code",
      "source": [
        "from urllib.request import urlopen\n",
        "html = urlopen(\"https://pythonscraping.com/pages/page1.html\")\n",
        "print(html.read)"
      ],
      "metadata": {
        "colab": {
          "base_uri": "https://localhost:8080/"
        },
        "id": "j38W4sf0BW5F",
        "outputId": "73374da2-0a0c-4016-9137-4b9a8be61e9c"
      },
      "execution_count": null,
      "outputs": [
        {
          "output_type": "stream",
          "name": "stdout",
          "text": [
            "<bound method HTTPResponse.read of <http.client.HTTPResponse object at 0x7d98612cbd00>>\n"
          ]
        }
      ]
    },
    {
      "cell_type": "code",
      "source": [
        "from urllib.request import urlopen\n",
        "html = urlopen(\"http://pythonscraping.com/pages/page1.html\")\n",
        "print(html.read())"
      ],
      "metadata": {
        "colab": {
          "base_uri": "https://localhost:8080/"
        },
        "id": "O_62WFx2BmUY",
        "outputId": "1cf4fcaf-4fa7-48de-bf26-ad10dbdb403e"
      },
      "execution_count": null,
      "outputs": [
        {
          "output_type": "stream",
          "name": "stdout",
          "text": [
            "b'<html>\\n<head>\\n<title>A Useful Page</title>\\n</head>\\n<body>\\n<h1>An Interesting Title</h1>\\n<div>\\nLorem ipsum dolor sit amet, consectetur adipisicing elit, sed do eiusmod tempor incididunt ut labore et dolore magna aliqua. Ut enim ad minim veniam, quis nostrud exercitation ullamco laboris nisi ut aliquip ex ea commodo consequat. Duis aute irure dolor in reprehenderit in voluptate velit esse cillum dolore eu fugiat nulla pariatur. Excepteur sint occaecat cupidatat non proident, sunt in culpa qui officia deserunt mollit anim id est laborum.\\n</div>\\n</body>\\n</html>\\n'\n"
          ]
        }
      ]
    },
    {
      "cell_type": "code",
      "source": [
        "import bs4"
      ],
      "metadata": {
        "id": "lykXut0IBoc-"
      },
      "execution_count": null,
      "outputs": []
    },
    {
      "cell_type": "markdown",
      "source": [
        "**도서의 무게 구하기**"
      ],
      "metadata": {
        "id": "p7saMJoiEGgT"
      }
    },
    {
      "cell_type": "code",
      "source": [
        "def get_book_weight(isbn):\n",
        "    url = 'http://www.yes24.com/Product/Search?domain=BOOK&query={}'\n",
        "    r = requests.get(url.format(isbn))\n",
        "    soup = BeautifulSoup(r.text, 'html.parser')\n",
        "    prd_info = soup.find('a', attrs={'class':'gd_name'})\n",
        "    if prd_info is None:\n",
        "        return ''\n",
        "    url = 'http://www.yes24.com' + prd_info['href']\n",
        "    r = requests.get(url)\n",
        "    soup = BeautifulSoup(r.text, 'html.parser')\n",
        "    prd_detail = soup.find('div', attrs={'id':'infoset_specific'})\n",
        "    prd_tr_list = prd_detail.find_all('tr')\n",
        "    for tr in prd_tr_list:\n",
        "        if tr.find('th').get_text() == '쪽수, 무게, 크기':\n",
        "            return tr.find('td').get_text().split()[2]\n",
        "    return ''"
      ],
      "metadata": {
        "id": "XWBnoWj7EksX"
      },
      "execution_count": null,
      "outputs": []
    },
    {
      "cell_type": "code",
      "source": [
        "def get_weight_cnt(row):\n",
        "    isbn = row['isbn13']\n",
        "    return get_book_weight(isbn)\n"
      ],
      "metadata": {
        "id": "mbsTDlq4HCka"
      },
      "execution_count": null,
      "outputs": []
    },
    {
      "cell_type": "code",
      "source": [
        "weight_count = top10_books.apply(get_weight_cnt, axis=1)\n",
        "print(weight_count)\n"
      ],
      "metadata": {
        "colab": {
          "base_uri": "https://localhost:8080/"
        },
        "id": "JqIw_ALbHVmq",
        "outputId": "c0f82671-9de1-4dbf-9437-f9182954cc40"
      },
      "execution_count": null,
      "outputs": [
        {
          "output_type": "stream",
          "name": "stdout",
          "text": [
            "0    496g\n",
            "1    358g\n",
            "2    296g\n",
            "3    412g\n",
            "4    388g\n",
            "5    512g\n",
            "6    318g\n",
            "7        \n",
            "8    324g\n",
            "9    406g\n",
            "dtype: object\n"
          ]
        }
      ]
    },
    {
      "cell_type": "code",
      "source": [
        "top10_books = books.head(10)"
      ],
      "metadata": {
        "id": "vEXtU2_bIs-p"
      },
      "execution_count": null,
      "outputs": []
    },
    {
      "cell_type": "code",
      "source": [
        "weight_count.name = 'Weight'\n",
        "top10_with_weight_count = pd.merge(top10_books, weight_count, left_index=True, right_index=True)\n",
        "print(top10_with_weight_count)"
      ],
      "metadata": {
        "colab": {
          "base_uri": "https://localhost:8080/"
        },
        "id": "OCfgyU1aJDWN",
        "outputId": "2e3b2476-43e9-402f-96d0-f6f563d294ed"
      },
      "execution_count": null,
      "outputs": [
        {
          "output_type": "stream",
          "name": "stdout",
          "text": [
            "   no  ranking                     bookname                  authors  \\\n",
            "0   1        1  우리가 빛의 속도로 갈 수 없다면 :김초엽 소설                  지은이: 김초엽   \n",
            "1   2        2         달러구트 꿈 백화점.이미예 장편소설                  지은이: 이미예   \n",
            "2   3        3          지구에서 한아뿐 :정세랑 장편소설                  지은이: 정세랑   \n",
            "3   4        4           시선으로부터, :정세랑 장편소설                  지은이: 정세랑   \n",
            "4   5        5               아몬드 :손원평 장편소설                  지은이: 손원평   \n",
            "5   6        6            피프티 피플 :정세랑 장편소설                  지은이: 정세랑   \n",
            "6   7        7          목소리를 드릴게요 :정세랑 소설집                  지은이: 정세랑   \n",
            "7   8        8  나미야 잡화점의 기적 :히가시노 게이고 장편소설   지은이: 히가시노 게이고 ;옮긴이: 양윤옥   \n",
            "8   9        9                   선량한 차별주의자                    김지혜 지음   \n",
            "9  10        9              쇼코의 미소 :최은영 소설                  지은이: 최은영   \n",
            "\n",
            "  publisher publication_year         isbn13 Weight  \n",
            "0        허블             2019  9791190090018   496g  \n",
            "1     팩토리나인             2020  9791165341909   358g  \n",
            "2        난다             2019  9791188862290   296g  \n",
            "3      문학동네             2020  9788954672214   412g  \n",
            "4        창비             2017  9788936434267   388g  \n",
            "5        창비             2016  9788936434243   512g  \n",
            "6        아작             2020  9791165300005   318g  \n",
            "7      현대문학             2012  9788972756194         \n",
            "8        창비             2019  9788936477196   324g  \n",
            "9      문학동네             2016  9788954641630   406g  \n"
          ]
        }
      ]
    }
  ]
}