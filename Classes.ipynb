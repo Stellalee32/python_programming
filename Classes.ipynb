{
  "nbformat": 4,
  "nbformat_minor": 0,
  "metadata": {
    "colab": {
      "provenance": [],
      "authorship_tag": "ABX9TyO54hn0Sq6nRfph6L0sbDdG",
      "include_colab_link": true
    },
    "kernelspec": {
      "name": "python3",
      "display_name": "Python 3"
    },
    "language_info": {
      "name": "python"
    }
  },
  "cells": [
    {
      "cell_type": "markdown",
      "metadata": {
        "id": "view-in-github",
        "colab_type": "text"
      },
      "source": [
        "<a href=\"https://colab.research.google.com/github/Stellalee32/python_programming/blob/main/Classes.ipynb\" target=\"_parent\"><img src=\"https://colab.research.google.com/assets/colab-badge.svg\" alt=\"Open In Colab\"/></a>"
      ]
    },
    {
      "cell_type": "code",
      "execution_count": 45,
      "metadata": {
        "id": "Rispk_MaD0T2"
      },
      "outputs": [],
      "source": [
        "# 2023272280 이승아\n",
        "\n",
        "import matplotlib.pyplot as plt\n",
        "%matplotlib inline\n",
        "\n",
        "\n",
        "class Circle(object):\n",
        "  def __init__(self, radius, color='blue'):\n",
        "      self.radius = radius\n",
        "      self.color = color\n",
        "\n",
        "  def add_radius(self, r):\n",
        "      self.radius = self.radius + r\n",
        "      return(self.radius)\n",
        "\n",
        "  def drawCircle(self):\n",
        "      plt.gca().add_patch(plt.Circle((0,0), radius=self.radius, fc=self.color))\n",
        "      plt.axis('scaled')\n",
        "      plt.show()\n"
      ]
    },
    {
      "cell_type": "code",
      "source": [
        "RedCircle = Circle(0, 'red')\n",
        "RedCircle.radius\n",
        "RedCircle.add_radius(2)\n",
        "RedCircle.radius\n",
        "RedCircle.add_radius(2)\n",
        "RedCircle.radius\n",
        "RedCircle.add_radius(2)"
      ],
      "metadata": {
        "colab": {
          "base_uri": "https://localhost:8080/"
        },
        "id": "lVKmgkYfLTZR",
        "outputId": "b5fe509f-9d8c-4bb6-ac0b-a584be0716dc"
      },
      "execution_count": 46,
      "outputs": [
        {
          "output_type": "execute_result",
          "data": {
            "text/plain": [
              "6"
            ]
          },
          "metadata": {},
          "execution_count": 46
        }
      ]
    },
    {
      "cell_type": "code",
      "source": [
        "RedCircle = Circle(1, 'red')\n",
        "RedCircle.radius"
      ],
      "metadata": {
        "colab": {
          "base_uri": "https://localhost:8080/"
        },
        "id": "qs4yTOxPLcZA",
        "outputId": "e793e342-c35b-45da-a514-6753bb4ef3c4"
      },
      "execution_count": 47,
      "outputs": [
        {
          "output_type": "execute_result",
          "data": {
            "text/plain": [
              "1"
            ]
          },
          "metadata": {},
          "execution_count": 47
        }
      ]
    },
    {
      "cell_type": "code",
      "source": [
        "dir(RedCircle)"
      ],
      "metadata": {
        "colab": {
          "base_uri": "https://localhost:8080/"
        },
        "id": "cXqra2EaLmUg",
        "outputId": "32352afd-582b-44e7-a39d-7caf74b7b71d"
      },
      "execution_count": 28,
      "outputs": [
        {
          "output_type": "execute_result",
          "data": {
            "text/plain": [
              "['__class__',\n",
              " '__delattr__',\n",
              " '__dict__',\n",
              " '__dir__',\n",
              " '__doc__',\n",
              " '__eq__',\n",
              " '__format__',\n",
              " '__ge__',\n",
              " '__getattribute__',\n",
              " '__gt__',\n",
              " '__hash__',\n",
              " '__init__',\n",
              " '__init_subclass__',\n",
              " '__le__',\n",
              " '__lt__',\n",
              " '__module__',\n",
              " '__ne__',\n",
              " '__new__',\n",
              " '__reduce__',\n",
              " '__reduce_ex__',\n",
              " '__repr__',\n",
              " '__setattr__',\n",
              " '__sizeof__',\n",
              " '__str__',\n",
              " '__subclasshook__',\n",
              " '__weakref__',\n",
              " 'add_radius',\n",
              " 'color',\n",
              " 'drawCircle',\n",
              " 'radius']"
            ]
          },
          "metadata": {},
          "execution_count": 28
        }
      ]
    },
    {
      "cell_type": "code",
      "source": [
        "RedCircle.radius"
      ],
      "metadata": {
        "colab": {
          "base_uri": "https://localhost:8080/"
        },
        "id": "UkOYBp7_LpBN",
        "outputId": "9e6b0404-0c8e-4f6a-9b1e-672b587735c3"
      },
      "execution_count": 29,
      "outputs": [
        {
          "output_type": "execute_result",
          "data": {
            "text/plain": [
              "1"
            ]
          },
          "metadata": {},
          "execution_count": 29
        }
      ]
    },
    {
      "cell_type": "code",
      "source": [
        "RedCircle.color"
      ],
      "metadata": {
        "colab": {
          "base_uri": "https://localhost:8080/",
          "height": 36
        },
        "id": "6SfoogK7LrLF",
        "outputId": "ed6a3180-3d4b-4c04-beb5-248b59f6bd81"
      },
      "execution_count": 30,
      "outputs": [
        {
          "output_type": "execute_result",
          "data": {
            "text/plain": [
              "'red'"
            ],
            "application/vnd.google.colaboratory.intrinsic+json": {
              "type": "string"
            }
          },
          "metadata": {},
          "execution_count": 30
        }
      ]
    },
    {
      "cell_type": "code",
      "source": [
        "RedCircle.radius = 20\n",
        "RedCircle.drawCircle()"
      ],
      "metadata": {
        "colab": {
          "base_uri": "https://localhost:8080/",
          "height": 430
        },
        "id": "SnOqTUBPMoYn",
        "outputId": "51d3398f-41b3-4725-cf2d-9ae35c2b3a8c"
      },
      "execution_count": 48,
      "outputs": [
        {
          "output_type": "display_data",
          "data": {
            "text/plain": [
              "<Figure size 640x480 with 1 Axes>"
            ],
            "image/png": "[encoded data removed]"
          },
          "metadata": {}
        }
      ]
    },
    {
      "cell_type": "code",
      "source": [
        "BlueCircle = Circle(radius=100)\n",
        "BlueCircle.radius\n",
        "BlueCircle.color\n",
        "\n",
        "BlueCircle.drawCircle()"
      ],
      "metadata": {
        "colab": {
          "base_uri": "https://localhost:8080/",
          "height": 430
        },
        "id": "E7DpNKhBNFHd",
        "outputId": "c226879b-fb49-4158-b5cc-4992e31689b7"
      },
      "execution_count": 49,
      "outputs": [
        {
          "output_type": "display_data",
          "data": {
            "text/plain": [
              "<Figure size 640x480 with 1 Axes>"
            ],
            "image/png": "[encoded data removed]"
          },
          "metadata": {}
        }
      ]
    },
    {
      "cell_type": "code",
      "source": [
        "class Rectangle(object):\n",
        "\n",
        "  def __init__(self, width = 2, height = 3, color = 'r'):\n",
        "    self.height = height\n",
        "    self.width = width\n",
        "    self.color = color\n",
        "\n",
        "  def drawRectangle(self):\n",
        "      plt.gca().add_patch(plt.Rectangle((0,0), self.width, self.height, fc=self.color))\n",
        "      plt.axis('scaled')\n",
        "      plt.show()"
      ],
      "metadata": {
        "id": "SyTItUADNoKt"
      },
      "execution_count": 53,
      "outputs": []
    },
    {
      "cell_type": "code",
      "source": [
        "SkinnyBlueRectangle = Rectangle(2, 10,'blue')\n",
        "SkinnyBlueRectangle.drawRectangle()"
      ],
      "metadata": {
        "colab": {
          "base_uri": "https://localhost:8080/",
          "height": 430
        },
        "id": "01UZZ3pKOPCn",
        "outputId": "8d63ed00-f670-4dca-e806-913899e884c6"
      },
      "execution_count": 55,
      "outputs": [
        {
          "output_type": "display_data",
          "data": {
            "text/plain": [
              "<Figure size 640x480 with 1 Axes>"
            ],
            "image/png": "[encoded data removed]"
          },
          "metadata": {}
        }
      ]
    },
    {
      "cell_type": "code",
      "source": [
        "FatRedRectangle = Rectangle(40, 5, 'red')\n",
        "FatRedRectangle.drawRectangle()"
      ],
      "metadata": {
        "colab": {
          "base_uri": "https://localhost:8080/",
          "height": 125
        },
        "id": "Hd0h-gRfOYim",
        "outputId": "868aee5d-495e-4404-bf8a-763a018137fc"
      },
      "execution_count": 57,
      "outputs": [
        {
          "output_type": "display_data",
          "data": {
            "text/plain": [
              "<Figure size 640x480 with 1 Axes>"
            ],
            "image/png": "[encoded data removed]"
          },
          "metadata": {}
        }
      ]
    }
  ]
}