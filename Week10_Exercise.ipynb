{
  "nbformat": 4,
  "nbformat_minor": 0,
  "metadata": {
    "colab": {
      "provenance": [],
      "authorship_tag": "ABX9TyOavvHfEESOwXRO7iwqDvY2",
      "include_colab_link": true
    },
    "kernelspec": {
      "name": "python3",
      "display_name": "Python 3"
    },
    "language_info": {
      "name": "python"
    }
  },
  "cells": [
    {
      "cell_type": "markdown",
      "metadata": {
        "id": "view-in-github",
        "colab_type": "text"
      },
      "source": [
        "<a href=\"https://colab.research.google.com/github/Stellalee32/python_programming/blob/main/Week10_Exercise.ipynb\" target=\"_parent\"><img src=\"https://colab.research.google.com/assets/colab-badge.svg\" alt=\"Open In Colab\"/></a>"
      ]
    },
    {
      "cell_type": "code",
      "execution_count": 6,
      "metadata": {
        "id": "ZTOU4cOwL6pw"
      },
      "outputs": [],
      "source": [
        "# 2023272280 이승아\n",
        "\n",
        "result=0\n",
        "\n",
        "def adder(num):\n",
        "    global result\n",
        "    result += num\n",
        "    return result"
      ]
    },
    {
      "cell_type": "code",
      "source": [
        "print(adder(3))\n",
        "print(adder(4))"
      ],
      "metadata": {
        "colab": {
          "base_uri": "https://localhost:8080/"
        },
        "id": "B6_s_2NqMTGJ",
        "outputId": "638343d4-6919-44a0-cd46-9bba415d9c79"
      },
      "execution_count": 7,
      "outputs": [
        {
          "output_type": "stream",
          "name": "stdout",
          "text": [
            "3\n",
            "7\n"
          ]
        }
      ]
    },
    {
      "cell_type": "code",
      "source": [
        "print(adder(4))\n",
        "print(adder(5))"
      ],
      "metadata": {
        "colab": {
          "base_uri": "https://localhost:8080/"
        },
        "id": "5eUPwN7NMgJa",
        "outputId": "6c9c1176-b8a5-48e3-c2f9-80f182a52464"
      },
      "execution_count": 8,
      "outputs": [
        {
          "output_type": "stream",
          "name": "stdout",
          "text": [
            "11\n",
            "16\n"
          ]
        }
      ]
    },
    {
      "cell_type": "code",
      "source": [
        "result1 = 0\n",
        "result2 = 0\n",
        "\n",
        "def adder1(num):\n",
        "    global result1\n",
        "    result1 += num\n",
        "    return result1\n",
        "\n",
        "def adder2(num):\n",
        "    global result2\n",
        "    result2 += num\n",
        "    return result2\n",
        "\n",
        "\n",
        "print(adder1(3))\n",
        "print(adder1(4))\n",
        "print(adder2(3))\n",
        "print(adder2(7))"
      ],
      "metadata": {
        "colab": {
          "base_uri": "https://localhost:8080/"
        },
        "id": "Wrf5QF2zMlyc",
        "outputId": "5de261fd-35e0-4aef-baef-f8be33a984f5"
      },
      "execution_count": 15,
      "outputs": [
        {
          "output_type": "stream",
          "name": "stdout",
          "text": [
            "3\n",
            "7\n",
            "3\n",
            "10\n"
          ]
        }
      ]
    },
    {
      "cell_type": "code",
      "source": [
        "class Service:\n",
        "    secret = \"지구는 4006년에 멸망한다.\"\n",
        "\n",
        "an = Service()\n",
        "\n",
        "an.secret\n"
      ],
      "metadata": {
        "colab": {
          "base_uri": "https://localhost:8080/",
          "height": 36
        },
        "id": "l1qPZswrPJdF",
        "outputId": "801747e7-bede-41e8-ac59-cdb1962fc1aa"
      },
      "execution_count": 16,
      "outputs": [
        {
          "output_type": "execute_result",
          "data": {
            "text/plain": [
              "'지구는 4006년에 멸망한다.'"
            ],
            "application/vnd.google.colaboratory.intrinsic+json": {
              "type": "string"
            }
          },
          "metadata": {},
          "execution_count": 16
        }
      ]
    },
    {
      "cell_type": "code",
      "source": [
        "Service.secret\n"
      ],
      "metadata": {
        "colab": {
          "base_uri": "https://localhost:8080/",
          "height": 36
        },
        "id": "C7qODCOXPeZ5",
        "outputId": "98cd9244-6962-4798-c98a-3e5c51bdb78c"
      },
      "execution_count": 17,
      "outputs": [
        {
          "output_type": "execute_result",
          "data": {
            "text/plain": [
              "'지구는 4006년에 멸망한다.'"
            ],
            "application/vnd.google.colaboratory.intrinsic+json": {
              "type": "string"
            }
          },
          "metadata": {},
          "execution_count": 17
        }
      ]
    },
    {
      "cell_type": "code",
      "source": [
        "Service.secret = '지구가 4006년에 멸망한다는 사실은 뻥이다.'\n",
        "\n",
        "print(an.secret)"
      ],
      "metadata": {
        "colab": {
          "base_uri": "https://localhost:8080/"
        },
        "id": "z6117RmWPhfT",
        "outputId": "a3eaafdd-7453-4d0a-e3fa-bbfeb906ba6f"
      },
      "execution_count": 18,
      "outputs": [
        {
          "output_type": "stream",
          "name": "stdout",
          "text": [
            "지구가 4006년에 멸망한다는 사실은 뻥이다.\n"
          ]
        }
      ]
    },
    {
      "cell_type": "code",
      "source": [
        "class Service:\n",
        "    secret = \"지구는 4006년에 멸망한다\"\n",
        "    def sum(self, a, b):\n",
        "        result = a+b\n",
        "        print(\"%s + %s = %s이다.\" % (a, b, result))\n",
        "\n",
        "an = Service()\n",
        "\n",
        "an.sum(1,1)"
      ],
      "metadata": {
        "colab": {
          "base_uri": "https://localhost:8080/"
        },
        "id": "4zAScRBdPqlc",
        "outputId": "ac0576d3-9c59-438a-8662-5a1af7128b4a"
      },
      "execution_count": 19,
      "outputs": [
        {
          "output_type": "stream",
          "name": "stdout",
          "text": [
            "1 + 1 = 2이다.\n"
          ]
        }
      ]
    },
    {
      "cell_type": "code",
      "source": [
        "class Service:\n",
        "  secret = \"지구는 4006년에 멸망한다\"\n",
        "  def setname(self, name):\n",
        "      self.name = name\n",
        "  def sum(self, a, b):\n",
        "      result = a+b\n",
        "      print(\"%s님, %s + %s = %s 입니다.\" % (self.name, a, b, result))"
      ],
      "metadata": {
        "id": "ZAtPxru7QIyv"
      },
      "execution_count": 21,
      "outputs": []
    },
    {
      "cell_type": "code",
      "source": [
        "an = Service()\n",
        "an.setname(\"박달도사\")\n",
        "an.sum(1,1)"
      ],
      "metadata": {
        "colab": {
          "base_uri": "https://localhost:8080/"
        },
        "id": "E_oJoqyQUter",
        "outputId": "bc2fa78b-9643-4fad-9f17-94014ed3dd29"
      },
      "execution_count": 23,
      "outputs": [
        {
          "output_type": "stream",
          "name": "stdout",
          "text": [
            "박달도사님, 1 + 1 = 2 입니다.\n"
          ]
        }
      ]
    },
    {
      "cell_type": "code",
      "source": [
        "kim = Service()\n",
        "park = Service()\n",
        "kim.name = \"김정보\"\n",
        "park.name = \"박융합\"\n",
        "\n",
        "print(kim.name)"
      ],
      "metadata": {
        "colab": {
          "base_uri": "https://localhost:8080/"
        },
        "id": "4GnDCJcmU_uI",
        "outputId": "fcde62c6-decb-4b57-f8fc-9166fa5a0809"
      },
      "execution_count": 24,
      "outputs": [
        {
          "output_type": "stream",
          "name": "stdout",
          "text": [
            "김정보\n"
          ]
        }
      ]
    },
    {
      "cell_type": "code",
      "source": [
        "print(park.name)"
      ],
      "metadata": {
        "colab": {
          "base_uri": "https://localhost:8080/"
        },
        "id": "hpgR8IFkVI-f",
        "outputId": "9a449189-ffb6-4d6d-b909-f0b7663ba9c8"
      },
      "execution_count": 25,
      "outputs": [
        {
          "output_type": "stream",
          "name": "stdout",
          "text": [
            "박융합\n"
          ]
        }
      ]
    },
    {
      "cell_type": "code",
      "source": [
        "kim.secret = \"비밀은 없다\"\n",
        "print(park.secret)"
      ],
      "metadata": {
        "colab": {
          "base_uri": "https://localhost:8080/"
        },
        "id": "_-zTN200VMYE",
        "outputId": "95823710-e209-496f-f49d-e66ec25873b8"
      },
      "execution_count": 26,
      "outputs": [
        {
          "output_type": "stream",
          "name": "stdout",
          "text": [
            "지구는 4006년에 멸망한다\n"
          ]
        }
      ]
    },
    {
      "cell_type": "code",
      "source": [
        "print(kim.secret)"
      ],
      "metadata": {
        "colab": {
          "base_uri": "https://localhost:8080/"
        },
        "id": "rwajeWp0VyVN",
        "outputId": "684fdb1e-f68f-4496-d5f1-08757618fff8"
      },
      "execution_count": 28,
      "outputs": [
        {
          "output_type": "stream",
          "name": "stdout",
          "text": [
            "비밀은 없다\n"
          ]
        }
      ]
    },
    {
      "cell_type": "code",
      "source": [
        "Service.secret"
      ],
      "metadata": {
        "colab": {
          "base_uri": "https://localhost:8080/",
          "height": 36
        },
        "id": "v8a-PuJIV11U",
        "outputId": "82cd9652-cde5-4c26-f087-685653034278"
      },
      "execution_count": 29,
      "outputs": [
        {
          "output_type": "execute_result",
          "data": {
            "text/plain": [
              "'지구는 4006년에 멸망한다'"
            ],
            "application/vnd.google.colaboratory.intrinsic+json": {
              "type": "string"
            }
          },
          "metadata": {},
          "execution_count": 29
        }
      ]
    },
    {
      "cell_type": "code",
      "source": [
        "lee = Service()\n",
        "lee.sum(1,1)"
      ],
      "metadata": {
        "colab": {
          "base_uri": "https://localhost:8080/",
          "height": 287
        },
        "id": "BGVoWeNhWiDv",
        "outputId": "81d4baa9-a8d2-4685-8494-a4dee5ac224e"
      },
      "execution_count": 30,
      "outputs": [
        {
          "output_type": "error",
          "ename": "AttributeError",
          "evalue": "ignored",
          "traceback": [
            "\u001b[0;31m---------------------------------------------------------------------------\u001b[0m",
            "\u001b[0;31mAttributeError\u001b[0m                            Traceback (most recent call last)",
            "\u001b[0;32m<ipython-input-30-af3d11e1d066>\u001b[0m in \u001b[0;36m<cell line: 2>\u001b[0;34m()\u001b[0m\n\u001b[1;32m      1\u001b[0m \u001b[0mlee\u001b[0m \u001b[0;34m=\u001b[0m \u001b[0mService\u001b[0m\u001b[0;34m(\u001b[0m\u001b[0;34m)\u001b[0m\u001b[0;34m\u001b[0m\u001b[0;34m\u001b[0m\u001b[0m\n\u001b[0;32m----> 2\u001b[0;31m \u001b[0mlee\u001b[0m\u001b[0;34m.\u001b[0m\u001b[0msum\u001b[0m\u001b[0;34m(\u001b[0m\u001b[0;36m1\u001b[0m\u001b[0;34m,\u001b[0m\u001b[0;36m1\u001b[0m\u001b[0;34m)\u001b[0m\u001b[0;34m\u001b[0m\u001b[0;34m\u001b[0m\u001b[0m\n\u001b[0m",
            "\u001b[0;32m<ipython-input-21-96668d733788>\u001b[0m in \u001b[0;36msum\u001b[0;34m(self, a, b)\u001b[0m\n\u001b[1;32m      5\u001b[0m   \u001b[0;32mdef\u001b[0m \u001b[0msum\u001b[0m\u001b[0;34m(\u001b[0m\u001b[0mself\u001b[0m\u001b[0;34m,\u001b[0m \u001b[0ma\u001b[0m\u001b[0;34m,\u001b[0m \u001b[0mb\u001b[0m\u001b[0;34m)\u001b[0m\u001b[0;34m:\u001b[0m\u001b[0;34m\u001b[0m\u001b[0;34m\u001b[0m\u001b[0m\n\u001b[1;32m      6\u001b[0m       \u001b[0mresult\u001b[0m \u001b[0;34m=\u001b[0m \u001b[0ma\u001b[0m\u001b[0;34m+\u001b[0m\u001b[0mb\u001b[0m\u001b[0;34m\u001b[0m\u001b[0;34m\u001b[0m\u001b[0m\n\u001b[0;32m----> 7\u001b[0;31m       \u001b[0mprint\u001b[0m\u001b[0;34m(\u001b[0m\u001b[0;34m\"%s님, %s + %s = %s 입니다.\"\u001b[0m \u001b[0;34m%\u001b[0m \u001b[0;34m(\u001b[0m\u001b[0mself\u001b[0m\u001b[0;34m.\u001b[0m\u001b[0mname\u001b[0m\u001b[0;34m,\u001b[0m \u001b[0ma\u001b[0m\u001b[0;34m,\u001b[0m \u001b[0mb\u001b[0m\u001b[0;34m,\u001b[0m \u001b[0mresult\u001b[0m\u001b[0;34m)\u001b[0m\u001b[0;34m)\u001b[0m\u001b[0;34m\u001b[0m\u001b[0;34m\u001b[0m\u001b[0m\n\u001b[0m",
            "\u001b[0;31mAttributeError\u001b[0m: 'Service' object has no attribute 'name'"
          ]
        }
      ]
    },
    {
      "cell_type": "code",
      "source": [
        "class Service:\n",
        "  secret = \"지구는 4006년에 멸망한다\"\n",
        "  def __init__(self, name):\n",
        "    self.name = name\n",
        "  def sum(self, a, b):\n",
        "    result = a+b\n",
        "    print(\"%s님, %s + %s = %s입니다.\" %(self.name, a, b,result))"
      ],
      "metadata": {
        "id": "JKno73Y6Wqct"
      },
      "execution_count": 33,
      "outputs": []
    },
    {
      "cell_type": "code",
      "source": [
        "an = Service(\"박달도사\")\n",
        "an.sum(1,1)"
      ],
      "metadata": {
        "colab": {
          "base_uri": "https://localhost:8080/"
        },
        "id": "E01welqaXJkX",
        "outputId": "311d60e7-2f9d-4cd6-fd8d-70132c113270"
      },
      "execution_count": 34,
      "outputs": [
        {
          "output_type": "stream",
          "name": "stdout",
          "text": [
            "박달도사님, 1 + 1 = 2입니다.\n"
          ]
        }
      ]
    },
    {
      "cell_type": "code",
      "source": [
        "class FourCal:\n",
        "  pass\n",
        "\n",
        "a = FourCal()\n",
        "type(a)"
      ],
      "metadata": {
        "colab": {
          "base_uri": "https://localhost:8080/"
        },
        "id": "3hYOr2oHXO3P",
        "outputId": "6a911694-7be2-4a38-daa9-6d3e9a0c458f"
      },
      "execution_count": 36,
      "outputs": [
        {
          "output_type": "execute_result",
          "data": {
            "text/plain": [
              "__main__.FourCal"
            ]
          },
          "metadata": {},
          "execution_count": 36
        }
      ]
    },
    {
      "cell_type": "code",
      "source": [
        "class FourCal:\n",
        "  def setdata(self, first, second):\n",
        "    self.first = first\n",
        "    self.second = second\n",
        "\n",
        "a = FourCal()\n",
        "a.setdata(4,2)\n"
      ],
      "metadata": {
        "id": "dZy1S2T9Y1Z-"
      },
      "execution_count": 37,
      "outputs": []
    },
    {
      "cell_type": "code",
      "source": [
        "print(a.first)"
      ],
      "metadata": {
        "colab": {
          "base_uri": "https://localhost:8080/"
        },
        "id": "7qtOEHQ_Y_C9",
        "outputId": "901c31d0-6f0c-473a-8a22-fc6421df02ac"
      },
      "execution_count": 38,
      "outputs": [
        {
          "output_type": "stream",
          "name": "stdout",
          "text": [
            "4\n"
          ]
        }
      ]
    },
    {
      "cell_type": "code",
      "source": [
        "print(a.second)"
      ],
      "metadata": {
        "colab": {
          "base_uri": "https://localhost:8080/"
        },
        "id": "DJvrVN3PZBWa",
        "outputId": "b5679417-75fa-4c7a-e098-9c61b78acb73"
      },
      "execution_count": 39,
      "outputs": [
        {
          "output_type": "stream",
          "name": "stdout",
          "text": [
            "2\n"
          ]
        }
      ]
    },
    {
      "cell_type": "code",
      "source": [
        "class FourCal:\n",
        "  def setdata(self, first, second):\n",
        "    self.first = first\n",
        "    self.second = second\n",
        "  def sum(self):\n",
        "    result = self.first + self.second\n",
        "    return result"
      ],
      "metadata": {
        "id": "U6CUKPwDZMUo"
      },
      "execution_count": 40,
      "outputs": []
    },
    {
      "cell_type": "code",
      "source": [
        "a = FourCal()\n",
        "a.setdata(4,2)"
      ],
      "metadata": {
        "id": "D0OWiQH4ZXY0"
      },
      "execution_count": 41,
      "outputs": []
    },
    {
      "cell_type": "code",
      "source": [
        "print(a.sum())"
      ],
      "metadata": {
        "colab": {
          "base_uri": "https://localhost:8080/"
        },
        "id": "XNXAvaRXZaT2",
        "outputId": "6ebdbf63-6269-427c-8579-1ae1c2222400"
      },
      "execution_count": 42,
      "outputs": [
        {
          "output_type": "stream",
          "name": "stdout",
          "text": [
            "6\n"
          ]
        }
      ]
    },
    {
      "cell_type": "code",
      "source": [
        "class FourCal:\n",
        "  def setdata(self, first, second):\n",
        "    self.first = first\n",
        "    self.second = second\n",
        "  def sum(self):\n",
        "    result = self.first + self.second\n",
        "    return result\n",
        "  def mul(self):\n",
        "    result = self.first * self.second\n",
        "    return result\n",
        "  def sub(self):\n",
        "    result = self.first - self.second\n",
        "    return result\n",
        "  def div(self):\n",
        "    result = self.first / self.second\n",
        "    return result"
      ],
      "metadata": {
        "id": "UMCHt_lcZb_8"
      },
      "execution_count": null,
      "outputs": []
    },
    {
      "cell_type": "code",
      "source": [
        "a = FourCal()\n",
        "b = FourCal()\n",
        "a.setdata(4,2)\n",
        "b.setdata(3,7)"
      ],
      "metadata": {
        "id": "ELudr7A5bXtd"
      },
      "execution_count": 44,
      "outputs": []
    },
    {
      "cell_type": "code",
      "source": [
        "a.sum()"
      ],
      "metadata": {
        "colab": {
          "base_uri": "https://localhost:8080/"
        },
        "id": "cXDVWuQwcAZU",
        "outputId": "e10b3a5c-59ff-4bd2-d1af-4e2b26d4e01f"
      },
      "execution_count": 45,
      "outputs": [
        {
          "output_type": "execute_result",
          "data": {
            "text/plain": [
              "6"
            ]
          },
          "metadata": {},
          "execution_count": 45
        }
      ]
    },
    {
      "cell_type": "code",
      "source": [
        "a.mul()"
      ],
      "metadata": {
        "colab": {
          "base_uri": "https://localhost:8080/",
          "height": 180
        },
        "id": "u9PehsiYcCBV",
        "outputId": "78fa14ce-7440-422c-e62f-ea838999a664"
      },
      "execution_count": 46,
      "outputs": [
        {
          "output_type": "error",
          "ename": "AttributeError",
          "evalue": "ignored",
          "traceback": [
            "\u001b[0;31m---------------------------------------------------------------------------\u001b[0m",
            "\u001b[0;31mAttributeError\u001b[0m                            Traceback (most recent call last)",
            "\u001b[0;32m<ipython-input-46-123191ddae8d>\u001b[0m in \u001b[0;36m<cell line: 1>\u001b[0;34m()\u001b[0m\n\u001b[0;32m----> 1\u001b[0;31m \u001b[0ma\u001b[0m\u001b[0;34m.\u001b[0m\u001b[0mmul\u001b[0m\u001b[0;34m(\u001b[0m\u001b[0;34m)\u001b[0m\u001b[0;34m\u001b[0m\u001b[0;34m\u001b[0m\u001b[0m\n\u001b[0m",
            "\u001b[0;31mAttributeError\u001b[0m: 'FourCal' object has no attribute 'mul'"
          ]
        }
      ]
    },
    {
      "cell_type": "code",
      "source": [
        "a.sub()"
      ],
      "metadata": {
        "colab": {
          "base_uri": "https://localhost:8080/",
          "height": 180
        },
        "id": "BkEzAPYKcM9z",
        "outputId": "f7516141-68b3-4a90-ddce-49d989f36654"
      },
      "execution_count": 47,
      "outputs": [
        {
          "output_type": "error",
          "ename": "AttributeError",
          "evalue": "ignored",
          "traceback": [
            "\u001b[0;31m---------------------------------------------------------------------------\u001b[0m",
            "\u001b[0;31mAttributeError\u001b[0m                            Traceback (most recent call last)",
            "\u001b[0;32m<ipython-input-47-dca76a596b0b>\u001b[0m in \u001b[0;36m<cell line: 1>\u001b[0;34m()\u001b[0m\n\u001b[0;32m----> 1\u001b[0;31m \u001b[0ma\u001b[0m\u001b[0;34m.\u001b[0m\u001b[0msub\u001b[0m\u001b[0;34m(\u001b[0m\u001b[0;34m)\u001b[0m\u001b[0;34m\u001b[0m\u001b[0;34m\u001b[0m\u001b[0m\n\u001b[0m",
            "\u001b[0;31mAttributeError\u001b[0m: 'FourCal' object has no attribute 'sub'"
          ]
        }
      ]
    },
    {
      "cell_type": "code",
      "source": [
        "class FourCal:\n",
        "  def setdata(self, first, second):\n",
        "    self.first = first\n",
        "    self.second = second\n",
        "  def sum(self):\n",
        "    result = self.first + self.second\n",
        "    return result\n",
        "  def mul(self):\n",
        "    result = self.first * self.second\n",
        "    return result\n",
        "  def sub(self):\n",
        "    result = self.first - self.second\n",
        "    return result\n",
        "  def div(self):\n",
        "    result = self.first / self.second\n",
        "    return result"
      ],
      "metadata": {
        "id": "eEsNe-soceEJ"
      },
      "execution_count": 48,
      "outputs": []
    },
    {
      "cell_type": "code",
      "source": [
        "a = FourCal()\n",
        "b = FourCal()\n",
        "a.setdata(4,2)\n",
        "b.setdata(3,7)\n",
        "\n",
        "a.mul()"
      ],
      "metadata": {
        "colab": {
          "base_uri": "https://localhost:8080/"
        },
        "id": "oh_5bN8XcgDO",
        "outputId": "66285474-cfde-46c9-e6b1-4431ae322cbd"
      },
      "execution_count": 49,
      "outputs": [
        {
          "output_type": "execute_result",
          "data": {
            "text/plain": [
              "8"
            ]
          },
          "metadata": {},
          "execution_count": 49
        }
      ]
    },
    {
      "cell_type": "code",
      "source": [
        "a.div()"
      ],
      "metadata": {
        "colab": {
          "base_uri": "https://localhost:8080/"
        },
        "id": "hZvCdtYUcnGy",
        "outputId": "d499752d-b829-465e-c639-9caaf69af7fd"
      },
      "execution_count": 50,
      "outputs": [
        {
          "output_type": "execute_result",
          "data": {
            "text/plain": [
              "2.0"
            ]
          },
          "metadata": {},
          "execution_count": 50
        }
      ]
    },
    {
      "cell_type": "code",
      "source": [
        "a.sub()"
      ],
      "metadata": {
        "colab": {
          "base_uri": "https://localhost:8080/"
        },
        "id": "rxkc21zZcpXz",
        "outputId": "aceb430d-8c2b-41a0-81ec-6761297018d9"
      },
      "execution_count": 51,
      "outputs": [
        {
          "output_type": "execute_result",
          "data": {
            "text/plain": [
              "2"
            ]
          },
          "metadata": {},
          "execution_count": 51
        }
      ]
    },
    {
      "cell_type": "code",
      "source": [
        "b.sub()"
      ],
      "metadata": {
        "colab": {
          "base_uri": "https://localhost:8080/"
        },
        "id": "86yxl6rWcq_B",
        "outputId": "a1d73af4-deec-4cb4-a5b2-a360a52fe1da"
      },
      "execution_count": 52,
      "outputs": [
        {
          "output_type": "execute_result",
          "data": {
            "text/plain": [
              "-4"
            ]
          },
          "metadata": {},
          "execution_count": 52
        }
      ]
    },
    {
      "cell_type": "code",
      "source": [
        "b.sum()"
      ],
      "metadata": {
        "colab": {
          "base_uri": "https://localhost:8080/"
        },
        "id": "W5CaJah2cs6X",
        "outputId": "8ffe03b8-a9be-4bd0-fd41-322bd1f8ecf7"
      },
      "execution_count": 53,
      "outputs": [
        {
          "output_type": "execute_result",
          "data": {
            "text/plain": [
              "10"
            ]
          },
          "metadata": {},
          "execution_count": 53
        }
      ]
    },
    {
      "cell_type": "code",
      "source": [
        "import random\n",
        "\n",
        "player1_dice = []\n",
        "player2_dice = []\n",
        "\n",
        "for i in range(3):\n",
        "  player1_dice.append(random.randint(1,6))\n",
        "  player2_dice.append(random.randint(1,6))\n",
        "\n",
        "print(\"Player 1 rolled\" + str(player1_dice))\n",
        "print(\"Player 2 rolled\" + str(player2_dice))\n",
        "\n",
        "if sum(player1_dice) == sum(player2_dice):\n",
        "  print(\"Draw\")\n",
        "elif sum(player1_dice) > sum(player2_dice):\n",
        "  print(\"Player 1 wins\")\n",
        "else:\n",
        "  print(\"Player 2 wins\")"
      ],
      "metadata": {
        "colab": {
          "base_uri": "https://localhost:8080/"
        },
        "id": "_Ei-Fimscx1i",
        "outputId": "57c77e91-a09f-48d4-c82e-e53b5b73f2fd"
      },
      "execution_count": 55,
      "outputs": [
        {
          "output_type": "stream",
          "name": "stdout",
          "text": [
            "Player 1 rolled[3, 6, 5]\n",
            "Player 2 rolled[5, 4, 1]\n",
            "Player 1 wins\n"
          ]
        }
      ]
    },
    {
      "cell_type": "code",
      "source": [
        "from random import randint\n",
        "\n",
        "class player:\n",
        "  def __inint__(self):\n",
        "    self.dice = []\n",
        "\n",
        "  def roll(self):\n",
        "    self.dice = []\n",
        "    for i in range(3):\n",
        "      self.dice.append(randint(1,6))\n",
        "\n",
        "  def get_dice(self):\n",
        "    return self.dice\n",
        "\n",
        "player1 = player()\n",
        "player2 = player()\n",
        "\n",
        "player1.roll()\n",
        "player2.roll()\n",
        "\n",
        "print(\"Player 1 rolled\" + str(player1.get_dice()))\n",
        "print(\"Player 2 rolled\" + str(player2.get_dice()))\n",
        "\n",
        "if sum(player1.get_dice()) == sum(player2.get_dice()):\n",
        "  print(\"Draw!\")\n",
        "elif sum(player1.get_dice()) > sum(player2.get_dice()):\n",
        "  print(\"Player 1 wins!\")\n",
        "else:\n",
        "  print(\"Player 2 wins!\")"
      ],
      "metadata": {
        "colab": {
          "base_uri": "https://localhost:8080/"
        },
        "id": "V5lDAxDXdlqt",
        "outputId": "98f66eb4-0012-40a8-f32b-1107a814430b"
      },
      "execution_count": 59,
      "outputs": [
        {
          "output_type": "stream",
          "name": "stdout",
          "text": [
            "Player 1 rolled[1, 1, 2]\n",
            "Player 2 rolled[1, 5, 5]\n",
            "Player 2 wins!\n"
          ]
        }
      ]
    }
  ]
}